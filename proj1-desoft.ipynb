{
 "cells": [
  {
   "cell_type": "code",
   "execution_count": null,
   "metadata": {},
   "outputs": [],
   "source": [
    "\n",
    "# em cada rodada, onde o jogador deve decidir apostar ou sair do jogo  ou automaticamente sair se acabaram as fichas dele\n",
    "\n",
    "#e ter duas fases, começando com uma chamada de “Come Out” econforme o resultado, passar para a fase de “Point”\n",
    "\n",
    "# O computador é quem realiza o lançamento de dois dados (6 lados) para o jogo\n",
    "\n",
    "#Conforme a fase do jogo, mostre para o jogador as possibilidades de apostas e pergunte qual a opção e o valor que deseja apostar, ele pode fazer apostas de mais de um tipo por\n"
   ]
  },
  {
   "cell_type": "code",
   "execution_count": null,
   "metadata": {},
   "outputs": [],
   "source": [
    "#Pass Line Bet – pode ser feita na fase de “Come Out”. Se a soma dos dados lançados for 7 ou 11 o jogador ganha o dobro das ficha que tem.\n",
    "\n",
    "# Já se os dados somarem 2, 3 ou 12 (chamado de craps) o jogador perde (ou seja, se apostou 10 fichas, não recebe nada e perde essas 10).\n",
    "\n",
    "#Já se a soma dos dados der 4, 5, 6, 8, 9 ou 10 o jogo muda para a fase de “Point” e o objetivo muda (a. Aaposta já feita continua valendo, porém, o valor tirado se torna o Point e para o jogador , a soma do novo lançamento dos dados deve ser igual ao do Point. Se a\n",
    "#nova soma dos dados é a mesma do que foi guardado no Point, o jogador ganha o mesmo\n",
    "#valor que apostou. Se sair uma soma de valor 7 o jogador perde tudo\n",
    "\n",
    "# Caso saia qualquer\n",
    "#outro número, se mantem na fase de “Point” sem perder ou ganhar e se continua lançando\n",
    "#os dados até um veredito, quando sair ou o número do Point ou o 7, terminando essa\n",
    "#rodada e deixando começar uma nova em “Come Out”\n",
    "\n",
    "\n",
    "\n"
   ]
  },
  {
   "cell_type": "code",
   "execution_count": null,
   "metadata": {},
   "outputs": [],
   "source": [
    "#Field – Esta aposta pode ser feita em qualquer fase do jogo. Nesta aposta se os dados\n",
    "#derem 5, 6, 7 ou 8 o jogador perde tudo, já se derem 3, 4, 9, 10, ou 11 o jogador ganha o\n",
    "#mesmo valor que apostou, já se a soma for 2 o jogador ganha o dobro do que apostou (se\n",
    "#apostou 10 fichas, fica com as 10 e ganha mais 20), e finalmente se sai 12 nos dados o\n",
    "#jogador ganha o triplo (se apostou 10 fichas, fica com as 10 e ganha mais 30)."
   ]
  },
  {
   "cell_type": "code",
   "execution_count": null,
   "metadata": {},
   "outputs": [],
   "source": [
    "#Any Craps – Esta aposta pode ser feita em qualquer fase do jogo. Nesta aposta se o\n",
    "#dados derem 2, 3 ou 12 o jogador ganha sete vezes o que apostou, senão perde a aposta."
   ]
  },
  {
   "cell_type": "code",
   "execution_count": null,
   "metadata": {},
   "outputs": [],
   "source": [
    "#Twelve – Esta aposta pode ser feita em qualquer fase do jogo. Nesta aposta se o dados\n",
    "#derem 12 o jogador ganha trinta vezes o que apostou, senão perde a aposta."
   ]
  },
  {
   "cell_type": "code",
   "execution_count": null,
   "metadata": {},
   "outputs": [],
   "source": []
  },
  {
   "cell_type": "code",
   "execution_count": null,
   "metadata": {},
   "outputs": [],
   "source": [
    "\n",
    "\n",
    "    \n",
    "    "
   ]
  },
  {
   "cell_type": "code",
   "execution_count": null,
   "metadata": {},
   "outputs": [
    {
     "name": "stdout",
     "output_type": "stream",
     "text": [
      "voce comeca o jogo com 20 fichas, o seu objetivo é fazer o seu numero de fichas crescer\n"
     ]
    }
   ],
   "source": [
    "from random import randint\n",
    "import random \n",
    "i=20\n",
    "f=1\n",
    "print(\"voce comeca o jogo com 20 fichas, o seu objetivo é fazer o seu numero de fichas crescer\")\n",
    "while i>0:\n",
    "    a=input(\"deseja contiuar no jogo?:\")\n",
    "    if a == \"sim\" :\n",
    "        if f==1:\n",
    "            print(\"voce esta na primeira fase, Come Out\")\n",
    "            print(\"voce poder fazer tais apostas: Pass Line Bet ,Field, Any Craps or Twelve \")\n",
    "            c=input(\"qual aposta deseja fazer?\")\n",
    "            if c == \"Pass Line Bet\":\n",
    "                b=int(input(\"quantas fichas deseja apostar :\"))                \n",
    "                if b>0 and b<=i:\n",
    "                    r1 = random.randint(1,6) \n",
    "                    r2=random.randint(1,6)\n",
    "                    print(\"os seus numeros sorteados foram:\") \n",
    "                    print(r1,r2)\n",
    "                    if r1+r2==7 or r1+r2==11:\n",
    "                        print(\"voce ganhou o dobro das fichas que tinha, agora voce tem\")\n",
    "                        a==i*2\n",
    "                        i=a\n",
    "\n",
    "  \n",
    "                    if r1+r2==2 or r1+r2==3 or r1+r2==12:\n",
    "        \n",
    "        \n",
    "                        print(\"voce perdeu as fichas apostadas, agora voce tem:\")\n",
    "                        print(i-b)\n",
    "                        a==i-b\n",
    "                        i=a\n",
    "                  \n",
    "                    if r1+r2==4 or r1+r2==5 or r1+r2==6 or r1+r2==8 or r1+r2==9 or r1+r2==10:\n",
    "                        print(\"voce passou para a segunda fase, Point\")\n",
    "                        f+=1\n",
    "                        soma=r1+r2\n",
    "                        \n",
    "        \n",
    "        \n",
    "            if c == \"Field\":\n",
    "                    b=int(input(\"quantas fichas deseja apostar :\"))                \n",
    "                    if b>0 and b<=i:\n",
    "                        r1 = random.randint(1,6) \n",
    "                        r2=random.randint(1,6)\n",
    "                        print(\"os seus numeros sorteados foram:\") \n",
    "                        print(r1,r2)\n",
    "                        if r1+r2==5 or r1+r2==7  or r1+r2==6  or r1+r2==8:\n",
    "                            print (\"voce perdeu tudo\")\n",
    "                            i=0\n",
    "                        if r1+r2==3 or r1+r2==4 or r1+r2==9 or r1+r2==10 or r1+r2==11:\n",
    "                            print(\"voce ganhou o total da sua aposta\")\n",
    "                            a==i+b\n",
    "                            i+=a\n",
    "                        if r1+r2==2:\n",
    "                            print(\"voce ganhou o dobro do que apostou\")\n",
    "                            a==i*2\n",
    "                            i+=a\n",
    "                        if r1+ r2==12:\n",
    "                            print(\"voce ganhou o triplo do que apostou\")\n",
    "                            a==i*3\n",
    "                            i+=a\n",
    "            \n",
    "            if c == \"Any Craps\" :\n",
    "                b=int(input(\"quantas fichas deseja apostar :\"))                \n",
    "                if b>0 and b<=i:\n",
    "                    r1 = random.randint(1,6) \n",
    "                    r2=random.randint(1,6)\n",
    "                    print(\"os seus numeros sorteados foram:\") \n",
    "                    print(r1,r2)\n",
    "                    if r1+ r2==12 or r1+ r2==2 or r1+ r2==3:\n",
    "                        print(\"voce ganhou sete vezes do que ja tinha\")\n",
    "                        a==i*7\n",
    "                        i+=a\n",
    "       \n",
    "            if c == \"Twelve\":\n",
    "                b=int(input(\"quantas fichas deseja apostar :\"))                \n",
    "                if b>0 and b<=i:\n",
    "                    r1 = random.randint(1,6) \n",
    "                    r2=random.randint(1,6)\n",
    "                    print(\"os seus numeros sorteados foram:\") \n",
    "                    print(r1,r2)\n",
    "                    if r1+r2==12:\n",
    "                        print(\"voce ganhou doze vezes  de fichas do que tinha\")\n",
    "                        a==i*12\n",
    "                        i+=a\n",
    "                \n",
    "                    \n",
    "                \n",
    "                \n",
    "        if f==2:\n",
    "            print(\"Point\")\n",
    "            print(\"voce precisa para conseguir o dobro de fichas que apostou tirar a mesma soma de dados ou se tirar uma soma 7 voce perde tudo\")\n",
    "            r3 = random.randint(1,6) \n",
    "            r4=random.randint(1,6)\n",
    "            print(\"os seus numeros sorteados foram:\") \n",
    "            print(r3,r4)\n",
    "            if r3+r4=='soma':\n",
    "                a==i*2\n",
    "                i=a\n",
    "                f==1\n",
    "            if r3+r4==7:\n",
    "                print(\"voce perdeu todas as fichas\")\n",
    "                i=0\n",
    "            \n",
    "            \n",
    "                        \n",
    "                        \n",
    "            \n",
    "            \n",
    "        \n",
    "\n",
    "                        \n",
    "            \n",
    "        \n"
   ]
  },
  {
   "cell_type": "code",
   "execution_count": null,
   "metadata": {},
   "outputs": [],
   "source": []
  },
  {
   "cell_type": "code",
   "execution_count": null,
   "metadata": {},
   "outputs": [],
   "source": []
  },
  {
   "cell_type": "code",
   "execution_count": null,
   "metadata": {},
   "outputs": [],
   "source": []
  },
  {
   "cell_type": "code",
   "execution_count": null,
   "metadata": {},
   "outputs": [],
   "source": []
  },
  {
   "cell_type": "code",
   "execution_count": null,
   "metadata": {},
   "outputs": [],
   "source": []
  },
  {
   "cell_type": "code",
   "execution_count": null,
   "metadata": {},
   "outputs": [],
   "source": []
  }
 ],
 "metadata": {
  "kernelspec": {
   "display_name": "Python 3",
   "language": "python",
   "name": "python3"
  },
  "language_info": {
   "codemirror_mode": {
    "name": "ipython",
    "version": 3
   },
   "file_extension": ".py",
   "mimetype": "text/x-python",
   "name": "python",
   "nbconvert_exporter": "python",
   "pygments_lexer": "ipython3",
   "version": "3.7.3"
  }
 },
 "nbformat": 4,
 "nbformat_minor": 2
}
