{
 "cells": [
  {
   "cell_type": "code",
   "execution_count": null,
   "metadata": {},
   "outputs": [],
   "source": [
    "\n",
    "# em cada rodada, onde o jogador deve decidir apostar ou sair do jogo  ou automaticamente sair se acabaram as fichas dele\n",
    "\n",
    "#e ter duas fases, começando com uma chamada de “Come Out” econforme o resultado, passar para a fase de “Point”\n",
    "\n",
    "# O computador é quem realiza o lançamento de dois dados (6 lados) para o jogo\n",
    "\n",
    "#Conforme a fase do jogo, mostre para o jogador as possibilidades de apostas e pergunte qual a opção e o valor que deseja apostar, ele pode fazer apostas de mais de um tipo por\n"
   ]
  },
  {
   "cell_type": "code",
   "execution_count": null,
   "metadata": {},
   "outputs": [],
   "source": [
    "#Pass Line Bet – pode ser feita na fase de “Come Out”. Se a soma dos dados lançados for 7 ou 11 o jogador ganha o dobro das ficha que tem.\n",
    "\n",
    "# Já se os dados somarem 2, 3 ou 12 (chamado de craps) o jogador perde (ou seja, se apostou 10 fichas, não recebe nada e perde essas 10).\n",
    "\n",
    "#Já se a soma dos dados der 4, 5, 6, 8, 9 ou 10 o jogo muda para a fase de “Point” e o objetivo muda (a. Aaposta já feita continua valendo, porém, o valor tirado se torna o Point e para o jogador , a soma do novo lançamento dos dados deve ser igual ao do Point. Se a\n",
    "#nova soma dos dados é a mesma do que foi guardado no Point, o jogador ganha o mesmo\n",
    "#valor que apostou. Se sair uma soma de valor 7 o jogador perde tudo\n",
    "\n",
    "# Caso saia qualquer\n",
    "#outro número, se mantem na fase de “Point” sem perder ou ganhar e se continua lançando\n",
    "#os dados até um veredito, quando sair ou o número do Point ou o 7, terminando essa\n",
    "#rodada e deixando começar uma nova em “Come Out”\n",
    "\n",
    "\n",
    "\n"
   ]
  },
  {
   "cell_type": "code",
   "execution_count": null,
   "metadata": {},
   "outputs": [],
   "source": [
    "#Field – Esta aposta pode ser feita em qualquer fase do jogo. Nesta aposta se os dados\n",
    "#derem 5, 6, 7 ou 8 o jogador perde tudo, já se derem 3, 4, 9, 10, ou 11 o jogador ganha o\n",
    "#mesmo valor que apostou, já se a soma for 2 o jogador ganha o dobro do que apostou (se\n",
    "#apostou 10 fichas, fica com as 10 e ganha mais 20), e finalmente se sai 12 nos dados o\n",
    "#jogador ganha o triplo (se apostou 10 fichas, fica com as 10 e ganha mais 30)."
   ]
  },
  {
   "cell_type": "code",
   "execution_count": null,
   "metadata": {},
   "outputs": [],
   "source": [
    "#Any Craps – Esta aposta pode ser feita em qualquer fase do jogo. Nesta aposta se o\n",
    "#dados derem 2, 3 ou 12 o jogador ganha sete vezes o que apostou, senão perde a aposta."
   ]
  },
  {
   "cell_type": "code",
   "execution_count": null,
   "metadata": {},
   "outputs": [],
   "source": [
    "#Twelve – Esta aposta pode ser feita em qualquer fase do jogo. Nesta aposta se o dados\n",
    "#derem 12 o jogador ganha trinta vezes o que apostou, senão perde a aposta."
   ]
  },
  {
   "cell_type": "code",
   "execution_count": null,
   "metadata": {},
   "outputs": [],
   "source": [
    "#codigo\n",
    "from random import randint\n",
    "i=40\n",
    "a=input(\"deseja contiuar no jogo?:\")\n",
    "if a == \"sim\" :\n",
    "    if a < 40:\n",
    "        b=int(input(\"quantas fichas ate 40 deseja apostar :\"))\n",
    "        if b>0 and b<=40:\n",
    "            print(\"voce esta na fase “Come Out”\"\")\n",
    "\n",
    "        else:\n",
    "            print(\"numero invalido, escolha outro numero\")\n",
    "            b=int(input(\"quantas fichas ate 40 deseja apostar :\"))\n",
    "        \n",
    "        \n",
    "\n",
    "        \n",
    "    \n",
    "\n",
    "\n",
    "        \n",
    "\n",
    "\n",
    "    \n",
    "        \n",
    "\n",
    "\n",
    "    \n",
    "    "
   ]
  },
  {
   "cell_type": "code",
   "execution_count": null,
   "metadata": {},
   "outputs": [],
   "source": [
    "\n",
    "    "
   ]
  },
  {
   "cell_type": "code",
   "execution_count": null,
   "metadata": {},
   "outputs": [],
   "source": []
  }
 ],
 "metadata": {
  "kernelspec": {
   "display_name": "Python 3",
   "language": "python",
   "name": "python3"
  },
  "language_info": {
   "codemirror_mode": {
    "name": "ipython",
    "version": 3
   },
   "file_extension": ".py",
   "mimetype": "text/x-python",
   "name": "python",
   "nbconvert_exporter": "python",
   "pygments_lexer": "ipython3",
   "version": "3.7.3"
  }
 },
 "nbformat": 4,
 "nbformat_minor": 2
}
